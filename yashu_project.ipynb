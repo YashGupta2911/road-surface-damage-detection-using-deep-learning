{
  "cells": [
    {
      "cell_type": "markdown",
      "metadata": {
        "id": "view-in-github",
        "colab_type": "text"
      },
      "source": [
        "<a href=\"https://colab.research.google.com/github/YashGupta2911/road-surface-damage-detection-using-deep-learning/blob/main/yashu_project.ipynb\" target=\"_parent\"><img src=\"https://colab.research.google.com/assets/colab-badge.svg\" alt=\"Open In Colab\"/></a>"
      ]
    },
    {
      "cell_type": "code",
      "execution_count": 1,
      "metadata": {
        "colab": {
          "base_uri": "https://localhost:8080/"
        },
        "id": "tru_622F7CYj",
        "outputId": "5b130324-1ff3-4486-c566-c698924390f4"
      },
      "outputs": [
        {
          "output_type": "stream",
          "name": "stdout",
          "text": [
            "Mounted at /content/drive\n"
          ]
        }
      ],
      "source": [
        "from google.colab import drive\n",
        "drive.mount('/content/drive')"
      ],
      "id": "tru_622F7CYj"
    },
    {
      "cell_type": "code",
      "execution_count": 2,
      "metadata": {
        "id": "34bb13d2"
      },
      "outputs": [],
      "source": [
        "from tensorflow.keras.preprocessing.image import ImageDataGenerator\n",
        "from tensorflow.keras.preprocessing import image\n",
        "from tensorflow.keras.optimizers import RMSprop\n",
        "import tensorflow as tf\n",
        "import numpy as np\n",
        "from time import sleep as s\n",
        "import cv2\n",
        "import os\n",
        "import pandas as pd\n",
        "train = ImageDataGenerator(rescale=1/255)\n",
        "validation = ImageDataGenerator(rescale=1/255)"
      ],
      "id": "34bb13d2"
    },
    {
      "cell_type": "code",
      "execution_count": 3,
      "metadata": {
        "colab": {
          "base_uri": "https://localhost:8080/"
        },
        "id": "295bc9d4",
        "outputId": "d273d69b-3790-4088-e955-a2489bd517c8"
      },
      "outputs": [
        {
          "output_type": "stream",
          "name": "stdout",
          "text": [
            "Found 2094 images belonging to 4 classes.\n",
            "Found 300 images belonging to 4 classes.\n",
            "Found 600 images belonging to 4 classes.\n"
          ]
        }
      ],
      "source": [
        "train_dataset = train.flow_from_directory( \"/content/drive/MyDrive/Namlini/Data_base/train\",\n",
        "                                          target_size= (400,400),\n",
        "                                          batch_size= 16,\n",
        "                                          class_mode=\"categorical\")\n",
        "\n",
        "validation_dataset = train.flow_from_directory( \"/content/drive/MyDrive/Namlini/Data_base/validation\",\n",
        "                                          target_size= (400,400),\n",
        "                                          batch_size= 16)\n",
        "\n",
        "test_dataset = train.flow_from_directory( \"/content/drive/MyDrive/Namlini/Data_base/test\",\n",
        "                                          target_size= (400,400),\n",
        "                                          batch_size= 4)"
      ],
      "id": "295bc9d4"
    },
    {
      "cell_type": "code",
      "execution_count": 4,
      "metadata": {
        "colab": {
          "base_uri": "https://localhost:8080/"
        },
        "id": "ed31021e",
        "outputId": "f3920e52-a973-459d-a8ee-ea24839acc12"
      },
      "outputs": [
        {
          "output_type": "execute_result",
          "data": {
            "text/plain": [
              "array([0, 0, 0, ..., 3, 3, 3], dtype=int32)"
            ]
          },
          "metadata": {},
          "execution_count": 4
        }
      ],
      "source": [
        "train_dataset.classes"
      ],
      "id": "ed31021e"
    },
    {
      "cell_type": "code",
      "execution_count": 11,
      "metadata": {
        "id": "e80a195f"
      },
      "outputs": [],
      "source": [
        "model = tf.keras.models.Sequential([ \n",
        "    tf.keras.layers.Conv2D(128,(3,3),activation =\"relu\", input_shape =(400,400,3)),\n",
        "    tf.keras.layers.MaxPool2D(2,2),\n",
        "    tf.keras.layers.Conv2D(128,(3,3),activation =\"relu\"),\n",
        "    tf.keras.layers.MaxPool2D(2,2),\n",
        "    tf.keras.layers.Conv2D(128,(3,3),activation =\"relu\"),\n",
        "    tf.keras.layers.MaxPool2D(2,2),\n",
        "    tf.keras.layers.Conv2D(128,(3,3),activation =\"relu\"),\n",
        "    tf.keras.layers.MaxPool2D(2,2),\n",
        "    # tf.keras.layers.Conv2D(64,(3,3),activation =\"relu\"),\n",
        "    # tf.keras.layers.MaxPool2D(2,2),\n",
        "    tf.keras.layers.Flatten(),\n",
        "    tf.keras.layers.Dense(128, activation = \"relu\"),\n",
        "    tf.keras.layers.Dense(4,activation =\"softmax\")])"
      ],
      "id": "e80a195f"
    },
    {
      "cell_type": "code",
      "execution_count": 13,
      "metadata": {
        "colab": {
          "base_uri": "https://localhost:8080/"
        },
        "id": "7c89975f",
        "outputId": "a20f73c2-508d-4e9d-c730-5e2114176eac"
      },
      "outputs": [
        {
          "output_type": "stream",
          "name": "stdout",
          "text": [
            "Model: \"sequential_1\"\n",
            "_________________________________________________________________\n",
            " Layer (type)                Output Shape              Param #   \n",
            "=================================================================\n",
            " conv2d_4 (Conv2D)           (None, 398, 398, 128)     3584      \n",
            "                                                                 \n",
            " max_pooling2d_4 (MaxPooling  (None, 199, 199, 128)    0         \n",
            " 2D)                                                             \n",
            "                                                                 \n",
            " conv2d_5 (Conv2D)           (None, 197, 197, 128)     147584    \n",
            "                                                                 \n",
            " max_pooling2d_5 (MaxPooling  (None, 98, 98, 128)      0         \n",
            " 2D)                                                             \n",
            "                                                                 \n",
            " conv2d_6 (Conv2D)           (None, 96, 96, 128)       147584    \n",
            "                                                                 \n",
            " max_pooling2d_6 (MaxPooling  (None, 48, 48, 128)      0         \n",
            " 2D)                                                             \n",
            "                                                                 \n",
            " conv2d_7 (Conv2D)           (None, 46, 46, 128)       147584    \n",
            "                                                                 \n",
            " max_pooling2d_7 (MaxPooling  (None, 23, 23, 128)      0         \n",
            " 2D)                                                             \n",
            "                                                                 \n",
            " flatten_1 (Flatten)         (None, 67712)             0         \n",
            "                                                                 \n",
            " dense_2 (Dense)             (None, 128)               8667264   \n",
            "                                                                 \n",
            " dense_3 (Dense)             (None, 4)                 516       \n",
            "                                                                 \n",
            "=================================================================\n",
            "Total params: 9,114,116\n",
            "Trainable params: 9,114,116\n",
            "Non-trainable params: 0\n",
            "_________________________________________________________________\n"
          ]
        }
      ],
      "source": [
        "model.summary()"
      ],
      "id": "7c89975f"
    },
    {
      "cell_type": "code",
      "execution_count": 14,
      "metadata": {
        "id": "3e1dbc76"
      },
      "outputs": [],
      "source": [
        "model.compile(loss=\"categorical_crossentropy\" , optimizer=\"adam\" ,metrics =[\"accuracy\"])"
      ],
      "id": "3e1dbc76"
    },
    {
      "cell_type": "code",
      "execution_count": 15,
      "metadata": {
        "id": "b3d975c9",
        "colab": {
          "base_uri": "https://localhost:8080/"
        },
        "outputId": "c5637a65-ea67-400e-ee9a-41919d86d86e"
      },
      "outputs": [
        {
          "output_type": "stream",
          "name": "stdout",
          "text": [
            "Epoch 1/50\n",
            "30/30 [==============================] - 12s 362ms/step - loss: 1.2986 - accuracy: 0.3625 - val_loss: 1.1712 - val_accuracy: 0.2333\n",
            "Epoch 2/50\n",
            "30/30 [==============================] - 11s 350ms/step - loss: 1.1488 - accuracy: 0.4062 - val_loss: 1.1383 - val_accuracy: 0.4067\n",
            "Epoch 3/50\n",
            "30/30 [==============================] - 11s 350ms/step - loss: 1.1328 - accuracy: 0.4208 - val_loss: 1.1248 - val_accuracy: 0.4100\n",
            "Epoch 4/50\n",
            "30/30 [==============================] - 11s 350ms/step - loss: 1.1366 - accuracy: 0.4104 - val_loss: 1.1049 - val_accuracy: 0.4033\n",
            "Epoch 5/50\n",
            "30/30 [==============================] - 11s 349ms/step - loss: 1.1451 - accuracy: 0.4229 - val_loss: 1.1072 - val_accuracy: 0.4967\n",
            "Epoch 6/50\n",
            "30/30 [==============================] - 10s 347ms/step - loss: 1.1391 - accuracy: 0.4437 - val_loss: 1.1121 - val_accuracy: 0.4067\n",
            "Epoch 7/50\n",
            "30/30 [==============================] - 10s 348ms/step - loss: 1.0847 - accuracy: 0.4268 - val_loss: 1.0823 - val_accuracy: 0.4667\n",
            "Epoch 8/50\n",
            "30/30 [==============================] - 10s 346ms/step - loss: 1.0661 - accuracy: 0.4979 - val_loss: 1.0705 - val_accuracy: 0.4767\n",
            "Epoch 9/50\n",
            "30/30 [==============================] - 10s 347ms/step - loss: 1.0905 - accuracy: 0.4333 - val_loss: 1.0718 - val_accuracy: 0.4567\n",
            "Epoch 10/50\n",
            "30/30 [==============================] - 11s 351ms/step - loss: 1.0665 - accuracy: 0.4542 - val_loss: 1.0856 - val_accuracy: 0.4800\n",
            "Epoch 11/50\n",
            "30/30 [==============================] - 11s 351ms/step - loss: 1.1051 - accuracy: 0.4582 - val_loss: 1.1024 - val_accuracy: 0.4800\n",
            "Epoch 12/50\n",
            "30/30 [==============================] - 10s 348ms/step - loss: 1.0698 - accuracy: 0.4854 - val_loss: 1.1037 - val_accuracy: 0.5067\n",
            "Epoch 13/50\n",
            "30/30 [==============================] - 11s 351ms/step - loss: 1.0838 - accuracy: 0.4707 - val_loss: 1.0887 - val_accuracy: 0.4500\n",
            "Epoch 14/50\n",
            "30/30 [==============================] - 10s 347ms/step - loss: 1.0776 - accuracy: 0.4833 - val_loss: 1.1512 - val_accuracy: 0.4400\n",
            "Epoch 15/50\n",
            "30/30 [==============================] - 11s 349ms/step - loss: 1.0777 - accuracy: 0.4583 - val_loss: 1.0801 - val_accuracy: 0.4233\n",
            "Epoch 16/50\n",
            "30/30 [==============================] - 10s 346ms/step - loss: 1.0630 - accuracy: 0.4456 - val_loss: 1.0428 - val_accuracy: 0.5233\n",
            "Epoch 17/50\n",
            "30/30 [==============================] - 10s 348ms/step - loss: 1.0648 - accuracy: 0.4917 - val_loss: 1.0466 - val_accuracy: 0.5200\n",
            "Epoch 18/50\n",
            "30/30 [==============================] - 10s 346ms/step - loss: 1.0789 - accuracy: 0.5312 - val_loss: 1.0891 - val_accuracy: 0.4833\n",
            "Epoch 19/50\n",
            "30/30 [==============================] - 10s 344ms/step - loss: 1.0745 - accuracy: 0.4728 - val_loss: 1.0596 - val_accuracy: 0.5300\n",
            "Epoch 20/50\n",
            "30/30 [==============================] - 10s 346ms/step - loss: 1.0565 - accuracy: 0.4792 - val_loss: 1.0585 - val_accuracy: 0.5467\n",
            "Epoch 21/50\n",
            "30/30 [==============================] - 10s 346ms/step - loss: 1.0321 - accuracy: 0.5375 - val_loss: 1.0641 - val_accuracy: 0.5333\n",
            "Epoch 22/50\n",
            "30/30 [==============================] - 11s 347ms/step - loss: 0.9820 - accuracy: 0.5667 - val_loss: 1.0863 - val_accuracy: 0.5033\n",
            "Epoch 23/50\n",
            "30/30 [==============================] - 10s 347ms/step - loss: 0.9821 - accuracy: 0.5628 - val_loss: 1.0597 - val_accuracy: 0.5067\n",
            "Epoch 24/50\n",
            "30/30 [==============================] - 11s 348ms/step - loss: 0.9156 - accuracy: 0.5938 - val_loss: 1.1239 - val_accuracy: 0.5000\n",
            "Epoch 25/50\n",
            "30/30 [==============================] - 10s 345ms/step - loss: 0.9475 - accuracy: 0.5646 - val_loss: 1.0735 - val_accuracy: 0.5333\n",
            "Epoch 26/50\n",
            "30/30 [==============================] - 10s 348ms/step - loss: 0.8889 - accuracy: 0.6151 - val_loss: 1.0393 - val_accuracy: 0.5533\n",
            "Epoch 27/50\n",
            "30/30 [==============================] - 10s 347ms/step - loss: 0.8316 - accuracy: 0.6485 - val_loss: 1.2120 - val_accuracy: 0.5133\n",
            "Epoch 28/50\n",
            "30/30 [==============================] - 10s 347ms/step - loss: 0.8129 - accuracy: 0.6479 - val_loss: 1.1647 - val_accuracy: 0.5267\n",
            "Epoch 29/50\n",
            "30/30 [==============================] - 10s 345ms/step - loss: 0.7742 - accuracy: 0.6812 - val_loss: 1.1859 - val_accuracy: 0.4867\n",
            "Epoch 30/50\n",
            "30/30 [==============================] - 10s 345ms/step - loss: 0.7544 - accuracy: 0.6792 - val_loss: 1.2637 - val_accuracy: 0.5167\n",
            "Epoch 31/50\n",
            "30/30 [==============================] - 10s 345ms/step - loss: 0.7040 - accuracy: 0.7104 - val_loss: 1.2877 - val_accuracy: 0.5267\n",
            "Epoch 32/50\n",
            "30/30 [==============================] - 10s 347ms/step - loss: 0.6240 - accuracy: 0.7646 - val_loss: 1.3014 - val_accuracy: 0.5433\n",
            "Epoch 33/50\n",
            "30/30 [==============================] - 12s 406ms/step - loss: 0.6281 - accuracy: 0.7604 - val_loss: 1.1227 - val_accuracy: 0.5700\n",
            "Epoch 34/50\n",
            "30/30 [==============================] - 10s 346ms/step - loss: 0.5902 - accuracy: 0.7688 - val_loss: 1.1746 - val_accuracy: 0.5433\n",
            "Epoch 35/50\n",
            "30/30 [==============================] - 10s 346ms/step - loss: 0.5684 - accuracy: 0.7688 - val_loss: 1.2859 - val_accuracy: 0.5033\n",
            "Epoch 36/50\n",
            "30/30 [==============================] - 10s 345ms/step - loss: 0.5570 - accuracy: 0.7833 - val_loss: 1.3581 - val_accuracy: 0.5367\n",
            "Epoch 37/50\n",
            "30/30 [==============================] - 10s 346ms/step - loss: 0.4195 - accuracy: 0.8417 - val_loss: 1.7257 - val_accuracy: 0.5033\n",
            "Epoch 38/50\n",
            "30/30 [==============================] - 10s 345ms/step - loss: 0.4961 - accuracy: 0.8188 - val_loss: 1.5323 - val_accuracy: 0.5333\n",
            "Epoch 39/50\n",
            "30/30 [==============================] - 10s 346ms/step - loss: 0.3651 - accuracy: 0.8646 - val_loss: 1.5637 - val_accuracy: 0.5333\n",
            "Epoch 40/50\n",
            "30/30 [==============================] - 10s 347ms/step - loss: 0.3946 - accuracy: 0.8687 - val_loss: 1.7543 - val_accuracy: 0.5233\n",
            "Epoch 41/50\n",
            "30/30 [==============================] - 10s 344ms/step - loss: 0.3155 - accuracy: 0.8808 - val_loss: 1.9305 - val_accuracy: 0.5433\n",
            "Epoch 42/50\n",
            "30/30 [==============================] - 11s 347ms/step - loss: 0.3027 - accuracy: 0.8854 - val_loss: 1.7628 - val_accuracy: 0.5100\n",
            "Epoch 43/50\n",
            "30/30 [==============================] - 10s 345ms/step - loss: 0.2609 - accuracy: 0.9062 - val_loss: 2.0970 - val_accuracy: 0.4967\n",
            "Epoch 44/50\n",
            "30/30 [==============================] - 10s 346ms/step - loss: 0.2532 - accuracy: 0.8896 - val_loss: 2.0155 - val_accuracy: 0.5267\n",
            "Epoch 45/50\n",
            "30/30 [==============================] - 10s 346ms/step - loss: 0.2351 - accuracy: 0.9312 - val_loss: 2.1884 - val_accuracy: 0.4900\n",
            "Epoch 46/50\n",
            "30/30 [==============================] - 10s 345ms/step - loss: 0.1844 - accuracy: 0.9354 - val_loss: 2.3932 - val_accuracy: 0.4767\n",
            "Epoch 47/50\n",
            "30/30 [==============================] - 11s 350ms/step - loss: 0.2005 - accuracy: 0.9458 - val_loss: 2.2685 - val_accuracy: 0.5033\n",
            "Epoch 48/50\n",
            "30/30 [==============================] - 10s 346ms/step - loss: 0.1783 - accuracy: 0.9414 - val_loss: 2.2461 - val_accuracy: 0.5033\n",
            "Epoch 49/50\n",
            "30/30 [==============================] - 10s 347ms/step - loss: 0.1311 - accuracy: 0.9563 - val_loss: 2.7083 - val_accuracy: 0.4867\n",
            "Epoch 50/50\n",
            "30/30 [==============================] - 10s 344ms/step - loss: 0.1646 - accuracy: 0.9479 - val_loss: 2.4549 - val_accuracy: 0.5167\n"
          ]
        }
      ],
      "source": [
        "model_fit = model.fit(train_dataset,\n",
        "                     steps_per_epoch= 30,\n",
        "                     epochs= 50,\n",
        "                     validation_data= validation_dataset)"
      ],
      "id": "b3d975c9"
    },
    {
      "cell_type": "code",
      "execution_count": 16,
      "metadata": {
        "colab": {
          "base_uri": "https://localhost:8080/",
          "height": 279
        },
        "id": "8bc90411",
        "outputId": "753c2cab-8286-4719-b61c-3514baf976bf"
      },
      "outputs": [
        {
          "output_type": "display_data",
          "data": {
            "text/plain": [
              "<Figure size 432x288 with 1 Axes>"
            ],
            "image/png": "[encoded data removed]"
          },
          "metadata": {
            "needs_background": "light"
          }
        }
      ],
      "source": [
        "import matplotlib.pyplot as plt\n",
        "# Get training and test loss histories\n",
        "training_loss = model_fit.history['loss']\n",
        "test_loss = model_fit.history['val_loss']\n",
        "\n",
        "# Create count of the number of epochs\n",
        "epoch_count = range(1, len(training_loss) + 1)\n",
        "\n",
        "# Visualize loss history\n",
        "plt.plot(epoch_count, training_loss, 'r--')\n",
        "plt.plot(epoch_count, test_loss, 'b-')\n",
        "plt.legend(['Training Loss', 'Test Loss'])\n",
        "plt.xlabel('Epoch')\n",
        "plt.ylabel('Loss')\n",
        "plt.show();"
      ],
      "id": "8bc90411"
    },
    {
      "cell_type": "code",
      "execution_count": 17,
      "metadata": {
        "colab": {
          "base_uri": "https://localhost:8080/",
          "height": 279
        },
        "id": "d6bf1343",
        "outputId": "73fc471f-bcb1-4b6b-b73d-58a1d8e42e1c"
      },
      "outputs": [
        {
          "output_type": "display_data",
          "data": {
            "text/plain": [
              "<Figure size 432x288 with 1 Axes>"
            ],
            "image/png": "[encoded data removed]"
          },
          "metadata": {
            "needs_background": "light"
          }
        }
      ],
      "source": [
        "loss = model_fit.history['loss']\n",
        "accuracy = model_fit.history['accuracy']\n",
        "\n",
        "# Create count of the number of epochs\n",
        "epoch_count = range(1, len(accuracy) + 1)\n",
        "\n",
        "# Visualize loss history\n",
        "plt.plot(epoch_count, loss, 'r--')\n",
        "plt.plot(epoch_count, accuracy, 'b-')\n",
        "plt.legend(['loss', 'accuracy'])\n",
        "plt.xlabel('Epoch')\n",
        "plt.ylabel('Accuracy')\n",
        "plt.show();"
      ],
      "id": "d6bf1343"
    },
    {
      "cell_type": "code",
      "source": [],
      "metadata": {
        "id": "m8qxj6cgvNTD"
      },
      "id": "m8qxj6cgvNTD",
      "execution_count": 10,
      "outputs": []
    }
  ],
  "metadata": {
    "accelerator": "GPU",
    "colab": {
      "provenance": [],
      "collapsed_sections": [],
      "include_colab_link": true
    },
    "kernelspec": {
      "display_name": "Python 3",
      "language": "python",
      "name": "python3"
    },
    "language_info": {
      "codemirror_mode": {
        "name": "ipython",
        "version": 3
      },
      "file_extension": ".py",
      "mimetype": "text/x-python",
      "name": "python",
      "nbconvert_exporter": "python",
      "pygments_lexer": "ipython3",
      "version": "3.8.8"
    }
  },
  "nbformat": 4,
  "nbformat_minor": 5
}