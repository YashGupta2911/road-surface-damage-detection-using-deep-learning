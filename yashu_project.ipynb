{
  "cells": [
    {
      "cell_type": "markdown",
      "metadata": {
        "id": "view-in-github",
        "colab_type": "text"
      },
      "source": [
        "<a href=\"https://colab.research.google.com/github/YashGupta2911/road-surface-damage-detection-using-deep-learning/blob/main/yashu_project.ipynb\" target=\"_parent\"><img src=\"https://colab.research.google.com/assets/colab-badge.svg\" alt=\"Open In Colab\"/></a>"
      ]
    },
    {
      "cell_type": "code",
      "execution_count": 1,
      "metadata": {
        "colab": {
          "base_uri": "https://localhost:8080/"
        },
        "id": "tru_622F7CYj",
        "outputId": "5b130324-1ff3-4486-c566-c698924390f4"
      },
      "outputs": [
        {
          "output_type": "stream",
          "name": "stdout",
          "text": [
            "Mounted at /content/drive\n"
          ]
        }
      ],
      "source": [
        "from google.colab import drive\n",
        "drive.mount('/content/drive')"
      ],
      "id": "tru_622F7CYj"
    },
    {
      "cell_type": "code",
      "execution_count": 2,
      "metadata": {
        "id": "34bb13d2"
      },
      "outputs": [],
      "source": [
        "from tensorflow.keras.preprocessing.image import ImageDataGenerator\n",
        "from tensorflow.keras.preprocessing import image\n",
        "from tensorflow.keras.optimizers import RMSprop\n",
        "import tensorflow as tf\n",
        "import numpy as np\n",
        "from time import sleep as s\n",
        "import cv2\n",
        "import os\n",
        "import pandas as pd\n",
        "train = ImageDataGenerator(rescale=1/255)\n",
        "validation = ImageDataGenerator(rescale=1/255)"
      ],
      "id": "34bb13d2"
    },
    {
      "cell_type": "code",
      "execution_count": 3,
      "metadata": {
        "colab": {
          "base_uri": "https://localhost:8080/"
        },
        "id": "295bc9d4",
        "outputId": "d273d69b-3790-4088-e955-a2489bd517c8"
      },
      "outputs": [
        {
          "output_type": "stream",
          "name": "stdout",
          "text": [
            "Found 2094 images belonging to 4 classes.\n",
            "Found 300 images belonging to 4 classes.\n",
            "Found 600 images belonging to 4 classes.\n"
          ]
        }
      ],
      "source": [
        "train_dataset = train.flow_from_directory( \"/content/drive/MyDrive/Namlini/Data_base/train\",\n",
        "                                          target_size= (400,400),\n",
        "                                          batch_size= 16,\n",
        "                                          class_mode=\"categorical\")\n",
        "\n",
        "validation_dataset = train.flow_from_directory( \"/content/drive/MyDrive/Namlini/Data_base/validation\",\n",
        "                                          target_size= (400,400),\n",
        "                                          batch_size= 16)\n",
        "\n",
        "test_dataset = train.flow_from_directory( \"/content/drive/MyDrive/Namlini/Data_base/test\",\n",
        "                                          target_size= (400,400),\n",
        "                                          batch_size= 4)"
      ],
      "id": "295bc9d4"
    },
    {
      "cell_type": "code",
      "execution_count": 4,
      "metadata": {
        "colab": {
          "base_uri": "https://localhost:8080/"
        },
        "id": "ed31021e",
        "outputId": "f3920e52-a973-459d-a8ee-ea24839acc12"
      },
      "outputs": [
        {
          "output_type": "execute_result",
          "data": {
            "text/plain": [
              "array([0, 0, 0, ..., 3, 3, 3], dtype=int32)"
            ]
          },
          "metadata": {},
          "execution_count": 4
        }
      ],
      "source": [
        "train_dataset.classes"
      ],
      "id": "ed31021e"
    },
    {
      "cell_type": "code",
      "execution_count": 5,
      "metadata": {
        "id": "e80a195f"
      },
      "outputs": [],
      "source": [
        "model = tf.keras.models.Sequential([ \n",
        "    tf.keras.layers.Conv2D(128,(3,3),activation =\"relu\", input_shape =(400,400,3)),\n",
        "    tf.keras.layers.MaxPool2D(2,2),\n",
        "    tf.keras.layers.Conv2D(128,(3,3),activation =\"relu\"),\n",
        "    tf.keras.layers.MaxPool2D(2,2),\n",
        "    tf.keras.layers.Conv2D(128,(3,3),activation =\"relu\"),\n",
        "    tf.keras.layers.MaxPool2D(2,2),\n",
        "    tf.keras.layers.Conv2D(128,(3,3),activation =\"relu\"),\n",
        "    tf.keras.layers.MaxPool2D(2,2),\n",
        "    # tf.keras.layers.Conv2D(64,(3,3),activation =\"relu\"),\n",
        "    # tf.keras.layers.MaxPool2D(2,2),\n",
        "    tf.keras.layers.Flatten(),\n",
        "    tf.keras.layers.Dense(64, activation = \"relu\"),\n",
        "    tf.keras.layers.Dense(4,activation =\"softmax\")])"
      ],
      "id": "e80a195f"
    },
    {
      "cell_type": "code",
      "execution_count": 6,
      "metadata": {
        "colab": {
          "base_uri": "https://localhost:8080/"
        },
        "id": "7c89975f",
        "outputId": "ed4c377d-19e4-40d1-ce0c-8c5cb82e3ffa"
      },
      "outputs": [
        {
          "output_type": "stream",
          "name": "stdout",
          "text": [
            "Model: \"sequential\"\n",
            "_________________________________________________________________\n",
            " Layer (type)                Output Shape              Param #   \n",
            "=================================================================\n",
            " conv2d (Conv2D)             (None, 398, 398, 128)     3584      \n",
            "                                                                 \n",
            " max_pooling2d (MaxPooling2D  (None, 199, 199, 128)    0         \n",
            " )                                                               \n",
            "                                                                 \n",
            " conv2d_1 (Conv2D)           (None, 197, 197, 128)     147584    \n",
            "                                                                 \n",
            " max_pooling2d_1 (MaxPooling  (None, 98, 98, 128)      0         \n",
            " 2D)                                                             \n",
            "                                                                 \n",
            " conv2d_2 (Conv2D)           (None, 96, 96, 128)       147584    \n",
            "                                                                 \n",
            " max_pooling2d_2 (MaxPooling  (None, 48, 48, 128)      0         \n",
            " 2D)                                                             \n",
            "                                                                 \n",
            " conv2d_3 (Conv2D)           (None, 46, 46, 128)       147584    \n",
            "                                                                 \n",
            " max_pooling2d_3 (MaxPooling  (None, 23, 23, 128)      0         \n",
            " 2D)                                                             \n",
            "                                                                 \n",
            " flatten (Flatten)           (None, 67712)             0         \n",
            "                                                                 \n",
            " dense (Dense)               (None, 64)                4333632   \n",
            "                                                                 \n",
            " dense_1 (Dense)             (None, 4)                 260       \n",
            "                                                                 \n",
            "=================================================================\n",
            "Total params: 4,780,228\n",
            "Trainable params: 4,780,228\n",
            "Non-trainable params: 0\n",
            "_________________________________________________________________\n"
          ]
        }
      ],
      "source": [
        "model.summary()"
      ],
      "id": "7c89975f"
    },
    {
      "cell_type": "code",
      "execution_count": 7,
      "metadata": {
        "id": "3e1dbc76"
      },
      "outputs": [],
      "source": [
        "model.compile(loss=\"categorical_crossentropy\" , optimizer=\"adam\" ,metrics =[\"accuracy\"])"
      ],
      "id": "3e1dbc76"
    },
    {
      "cell_type": "code",
      "execution_count": 8,
      "metadata": {
        "id": "b3d975c9",
        "colab": {
          "base_uri": "https://localhost:8080/"
        },
        "outputId": "2ab6c3fa-0865-4a52-ab22-f1735f1f4a74"
      },
      "outputs": [
        {
          "output_type": "stream",
          "name": "stdout",
          "text": [
            "Epoch 1/50\n",
            "30/30 [==============================] - 428s 14s/step - loss: 1.2281 - accuracy: 0.3708 - val_loss: 1.1332 - val_accuracy: 0.4067\n",
            "Epoch 2/50\n",
            "30/30 [==============================] - 182s 6s/step - loss: 1.1115 - accuracy: 0.4187 - val_loss: 1.1166 - val_accuracy: 0.5000\n",
            "Epoch 3/50\n",
            "30/30 [==============================] - 140s 5s/step - loss: 1.0966 - accuracy: 0.4354 - val_loss: 1.1015 - val_accuracy: 0.4633\n",
            "Epoch 4/50\n",
            "30/30 [==============================] - 119s 4s/step - loss: 1.0652 - accuracy: 0.4688 - val_loss: 1.1286 - val_accuracy: 0.4367\n",
            "Epoch 5/50\n",
            "30/30 [==============================] - 76s 3s/step - loss: 1.1255 - accuracy: 0.4187 - val_loss: 1.0954 - val_accuracy: 0.4067\n",
            "Epoch 6/50\n",
            "30/30 [==============================] - 69s 2s/step - loss: 1.0925 - accuracy: 0.4417 - val_loss: 1.0859 - val_accuracy: 0.4933\n",
            "Epoch 7/50\n",
            "30/30 [==============================] - 54s 2s/step - loss: 1.1220 - accuracy: 0.4310 - val_loss: 1.1045 - val_accuracy: 0.4933\n",
            "Epoch 8/50\n",
            "30/30 [==============================] - 36s 1s/step - loss: 1.0893 - accuracy: 0.4542 - val_loss: 1.0965 - val_accuracy: 0.5233\n",
            "Epoch 9/50\n",
            "30/30 [==============================] - 38s 1s/step - loss: 1.0834 - accuracy: 0.4833 - val_loss: 1.0843 - val_accuracy: 0.5000\n",
            "Epoch 10/50\n",
            "30/30 [==============================] - 31s 1s/step - loss: 1.0930 - accuracy: 0.4289 - val_loss: 1.0938 - val_accuracy: 0.4167\n",
            "Epoch 11/50\n",
            "30/30 [==============================] - 22s 731ms/step - loss: 1.0561 - accuracy: 0.4958 - val_loss: 1.1010 - val_accuracy: 0.4933\n",
            "Epoch 12/50\n",
            "30/30 [==============================] - 26s 824ms/step - loss: 1.0867 - accuracy: 0.4583 - val_loss: 1.0596 - val_accuracy: 0.5333\n",
            "Epoch 13/50\n",
            "30/30 [==============================] - 21s 703ms/step - loss: 1.0562 - accuracy: 0.5208 - val_loss: 1.0737 - val_accuracy: 0.5233\n",
            "Epoch 14/50\n",
            "30/30 [==============================] - 19s 645ms/step - loss: 1.0372 - accuracy: 0.5208 - val_loss: 1.0958 - val_accuracy: 0.4800\n",
            "Epoch 15/50\n",
            "30/30 [==============================] - 14s 471ms/step - loss: 1.0448 - accuracy: 0.5458 - val_loss: 1.0868 - val_accuracy: 0.4933\n",
            "Epoch 16/50\n",
            "30/30 [==============================] - 13s 429ms/step - loss: 1.0414 - accuracy: 0.5105 - val_loss: 1.0367 - val_accuracy: 0.5667\n",
            "Epoch 17/50\n",
            "30/30 [==============================] - 13s 439ms/step - loss: 1.0060 - accuracy: 0.5312 - val_loss: 1.0249 - val_accuracy: 0.5633\n",
            "Epoch 18/50\n",
            "30/30 [==============================] - 12s 399ms/step - loss: 0.9960 - accuracy: 0.5439 - val_loss: 1.0039 - val_accuracy: 0.5633\n",
            "Epoch 19/50\n",
            "30/30 [==============================] - 13s 442ms/step - loss: 1.0088 - accuracy: 0.5377 - val_loss: 1.1033 - val_accuracy: 0.5367\n",
            "Epoch 20/50\n",
            "30/30 [==============================] - 11s 349ms/step - loss: 1.0174 - accuracy: 0.5354 - val_loss: 1.0664 - val_accuracy: 0.4700\n",
            "Epoch 21/50\n",
            "30/30 [==============================] - 12s 364ms/step - loss: 1.0142 - accuracy: 0.5188 - val_loss: 1.0545 - val_accuracy: 0.5367\n",
            "Epoch 22/50\n",
            "30/30 [==============================] - 10s 344ms/step - loss: 0.9767 - accuracy: 0.5437 - val_loss: 1.0611 - val_accuracy: 0.5433\n",
            "Epoch 23/50\n",
            "30/30 [==============================] - 10s 346ms/step - loss: 0.9805 - accuracy: 0.5879 - val_loss: 1.0784 - val_accuracy: 0.5333\n",
            "Epoch 24/50\n",
            "30/30 [==============================] - 10s 347ms/step - loss: 0.9986 - accuracy: 0.5437 - val_loss: 1.0503 - val_accuracy: 0.5533\n",
            "Epoch 25/50\n",
            "30/30 [==============================] - 11s 368ms/step - loss: 0.9265 - accuracy: 0.6042 - val_loss: 1.0724 - val_accuracy: 0.5033\n",
            "Epoch 26/50\n",
            "30/30 [==============================] - 11s 376ms/step - loss: 0.9614 - accuracy: 0.5958 - val_loss: 1.0651 - val_accuracy: 0.5600\n",
            "Epoch 27/50\n",
            "30/30 [==============================] - 11s 364ms/step - loss: 0.9047 - accuracy: 0.6187 - val_loss: 1.0427 - val_accuracy: 0.5600\n",
            "Epoch 28/50\n",
            "30/30 [==============================] - 10s 346ms/step - loss: 0.8652 - accuracy: 0.6046 - val_loss: 1.0515 - val_accuracy: 0.5567\n",
            "Epoch 29/50\n",
            "30/30 [==============================] - 10s 348ms/step - loss: 0.8109 - accuracy: 0.6271 - val_loss: 1.0680 - val_accuracy: 0.5600\n",
            "Epoch 30/50\n",
            "30/30 [==============================] - 10s 346ms/step - loss: 0.8412 - accuracy: 0.6271 - val_loss: 1.0891 - val_accuracy: 0.5433\n",
            "Epoch 31/50\n",
            "30/30 [==============================] - 10s 346ms/step - loss: 0.7999 - accuracy: 0.6792 - val_loss: 1.1380 - val_accuracy: 0.5533\n",
            "Epoch 32/50\n",
            "30/30 [==============================] - 10s 346ms/step - loss: 0.7061 - accuracy: 0.6812 - val_loss: 1.1380 - val_accuracy: 0.5333\n",
            "Epoch 33/50\n",
            "30/30 [==============================] - 11s 365ms/step - loss: 0.7648 - accuracy: 0.6896 - val_loss: 1.1912 - val_accuracy: 0.5567\n",
            "Epoch 34/50\n",
            "30/30 [==============================] - 10s 345ms/step - loss: 0.7085 - accuracy: 0.6841 - val_loss: 1.2798 - val_accuracy: 0.5700\n",
            "Epoch 35/50\n",
            "30/30 [==============================] - 10s 346ms/step - loss: 0.6395 - accuracy: 0.7280 - val_loss: 1.0874 - val_accuracy: 0.6067\n",
            "Epoch 36/50\n",
            "30/30 [==============================] - 10s 347ms/step - loss: 0.6176 - accuracy: 0.7292 - val_loss: 1.3545 - val_accuracy: 0.5400\n",
            "Epoch 37/50\n",
            "30/30 [==============================] - 11s 347ms/step - loss: 0.5623 - accuracy: 0.7958 - val_loss: 1.3480 - val_accuracy: 0.5500\n",
            "Epoch 38/50\n",
            "30/30 [==============================] - 11s 349ms/step - loss: 0.5208 - accuracy: 0.8021 - val_loss: 1.5051 - val_accuracy: 0.5133\n",
            "Epoch 39/50\n",
            "30/30 [==============================] - 10s 347ms/step - loss: 0.4632 - accuracy: 0.8333 - val_loss: 1.3525 - val_accuracy: 0.5433\n",
            "Epoch 40/50\n",
            "30/30 [==============================] - 10s 348ms/step - loss: 0.4137 - accuracy: 0.8494 - val_loss: 1.4783 - val_accuracy: 0.5833\n",
            "Epoch 41/50\n",
            "30/30 [==============================] - 10s 346ms/step - loss: 0.3682 - accuracy: 0.8619 - val_loss: 1.9173 - val_accuracy: 0.5233\n",
            "Epoch 42/50\n",
            "30/30 [==============================] - 10s 348ms/step - loss: 0.3561 - accuracy: 0.8729 - val_loss: 2.0035 - val_accuracy: 0.4967\n",
            "Epoch 43/50\n",
            "30/30 [==============================] - 10s 346ms/step - loss: 0.4071 - accuracy: 0.8583 - val_loss: 1.7416 - val_accuracy: 0.5233\n",
            "Epoch 44/50\n",
            "30/30 [==============================] - 10s 348ms/step - loss: 0.3461 - accuracy: 0.8729 - val_loss: 1.7371 - val_accuracy: 0.4967\n",
            "Epoch 45/50\n",
            "30/30 [==============================] - 10s 349ms/step - loss: 0.3155 - accuracy: 0.8938 - val_loss: 2.2424 - val_accuracy: 0.5033\n",
            "Epoch 46/50\n",
            "30/30 [==============================] - 10s 345ms/step - loss: 0.3408 - accuracy: 0.8792 - val_loss: 2.1499 - val_accuracy: 0.5000\n",
            "Epoch 47/50\n",
            "30/30 [==============================] - 10s 346ms/step - loss: 0.2924 - accuracy: 0.9104 - val_loss: 2.1671 - val_accuracy: 0.5233\n",
            "Epoch 48/50\n",
            "30/30 [==============================] - 10s 345ms/step - loss: 0.2607 - accuracy: 0.9083 - val_loss: 2.2602 - val_accuracy: 0.5133\n",
            "Epoch 49/50\n",
            "30/30 [==============================] - 10s 347ms/step - loss: 0.2413 - accuracy: 0.9229 - val_loss: 2.5014 - val_accuracy: 0.5067\n",
            "Epoch 50/50\n",
            "30/30 [==============================] - 10s 346ms/step - loss: 0.1904 - accuracy: 0.9208 - val_loss: 3.2103 - val_accuracy: 0.5200\n"
          ]
        }
      ],
      "source": [
        "model_fit = model.fit(train_dataset,\n",
        "                     steps_per_epoch= 30,\n",
        "                     epochs= 50,\n",
        "                     validation_data= validation_dataset)"
      ],
      "id": "b3d975c9"
    },
    {
      "cell_type": "code",
      "execution_count": 9,
      "metadata": {
        "colab": {
          "base_uri": "https://localhost:8080/",
          "height": 279
        },
        "id": "8bc90411",
        "outputId": "92144dc7-c1a8-40db-afc3-04200443fece"
      },
      "outputs": [
        {
          "output_type": "display_data",
          "data": {
            "text/plain": [
              "<Figure size 432x288 with 1 Axes>"
            ],
            "image/png": "[encoded data removed]"
          },
          "metadata": {
            "needs_background": "light"
          }
        }
      ],
      "source": [
        "import matplotlib.pyplot as plt\n",
        "# Get training and test loss histories\n",
        "training_loss = model_fit.history['loss']\n",
        "test_loss = model_fit.history['val_loss']\n",
        "\n",
        "# Create count of the number of epochs\n",
        "epoch_count = range(1, len(training_loss) + 1)\n",
        "\n",
        "# Visualize loss history\n",
        "plt.plot(epoch_count, training_loss, 'r--')\n",
        "plt.plot(epoch_count, test_loss, 'b-')\n",
        "plt.legend(['Training Loss', 'Test Loss'])\n",
        "plt.xlabel('Epoch')\n",
        "plt.ylabel('Loss')\n",
        "plt.show();"
      ],
      "id": "8bc90411"
    },
    {
      "cell_type": "code",
      "execution_count": 10,
      "metadata": {
        "colab": {
          "base_uri": "https://localhost:8080/",
          "height": 279
        },
        "id": "d6bf1343",
        "outputId": "b25b093a-d506-4f21-d246-679731817826"
      },
      "outputs": [
        {
          "output_type": "display_data",
          "data": {
            "text/plain": [
              "<Figure size 432x288 with 1 Axes>"
            ],
            "image/png": "[encoded data removed]"
          },
          "metadata": {
            "needs_background": "light"
          }
        }
      ],
      "source": [
        "loss = model_fit.history['loss']\n",
        "accuracy = model_fit.history['accuracy']\n",
        "\n",
        "# Create count of the number of epochs\n",
        "epoch_count = range(1, len(accuracy) + 1)\n",
        "\n",
        "# Visualize loss history\n",
        "plt.plot(epoch_count, loss, 'r--')\n",
        "plt.plot(epoch_count, accuracy, 'b-')\n",
        "plt.legend(['loss', 'accuracy'])\n",
        "plt.xlabel('Epoch')\n",
        "plt.ylabel('Accuracy')\n",
        "plt.show();"
      ],
      "id": "d6bf1343"
    },
    {
      "cell_type": "code",
      "source": [],
      "metadata": {
        "id": "m8qxj6cgvNTD"
      },
      "id": "m8qxj6cgvNTD",
      "execution_count": 10,
      "outputs": []
    }
  ],
  "metadata": {
    "accelerator": "GPU",
    "colab": {
      "provenance": [],
      "collapsed_sections": [],
      "include_colab_link": true
    },
    "kernelspec": {
      "display_name": "Python 3",
      "language": "python",
      "name": "python3"
    },
    "language_info": {
      "codemirror_mode": {
        "name": "ipython",
        "version": 3
      },
      "file_extension": ".py",
      "mimetype": "text/x-python",
      "name": "python",
      "nbconvert_exporter": "python",
      "pygments_lexer": "ipython3",
      "version": "3.8.8"
    }
  },
  "nbformat": 4,
  "nbformat_minor": 5
}